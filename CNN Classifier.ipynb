{
 "cells": [
  {
   "cell_type": "code",
   "execution_count": 1,
   "metadata": {},
   "outputs": [],
   "source": [
    "# Convolutional Neural Network\n",
    "# Binary image classifier for images of cats and dogs\n",
    "import numpy as np \n",
    "import matplotlib.pyplot as plt"
   ]
  },
  {
   "cell_type": "code",
   "execution_count": 2,
   "metadata": {},
   "outputs": [
    {
     "name": "stderr",
     "output_type": "stream",
     "text": [
      "Using TensorFlow backend.\n"
     ]
    }
   ],
   "source": [
    "from keras.models import Sequential\n",
    "from keras.models import model_from_json"
   ]
  },
  {
   "cell_type": "code",
   "execution_count": 3,
   "metadata": {},
   "outputs": [],
   "source": [
    "from keras.layers import Conv2D\n",
    "from keras.layers import MaxPooling2D\n",
    "from keras.layers import Flatten\n",
    "from keras.layers import Dense"
   ]
  },
  {
   "cell_type": "code",
   "execution_count": 5,
   "metadata": {},
   "outputs": [],
   "source": [
    "from keras.preprocessing import image\n",
    "from keras.preprocessing.image import ImageDataGenerator"
   ]
  },
  {
   "cell_type": "code",
   "execution_count": 24,
   "metadata": {},
   "outputs": [],
   "source": [
    "classifier = Sequential()\n",
    "classifier.add(Conv2D(32, (3, 3), input_shape = (50, 50, 3), activation = 'relu'))\n",
    "classifier.add(MaxPooling2D(pool_size = (2, 2)))\n",
    "classifier.add(Conv2D(64, (3, 3), activation = 'relu'))\n",
    "classifier.add(MaxPooling2D(pool_size = (2, 2)))\n",
    "classifier.add(Flatten())\n",
    "classifier.add(Dense(units = 256, activation = 'relu'))\n",
    "classifier.add(Dense(units = 1, activation = 'sigmoid'))"
   ]
  },
  {
   "cell_type": "code",
   "execution_count": 25,
   "metadata": {},
   "outputs": [],
   "source": [
    "classifier.compile(optimizer = 'adam', loss = 'binary_crossentropy', metrics = ['accuracy'])"
   ]
  },
  {
   "cell_type": "code",
   "execution_count": 26,
   "metadata": {},
   "outputs": [
    {
     "name": "stdout",
     "output_type": "stream",
     "text": [
      "Model: \"sequential_9\"\n",
      "_________________________________________________________________\n",
      "Layer (type)                 Output Shape              Param #   \n",
      "=================================================================\n",
      "conv2d_16 (Conv2D)           (None, 48, 48, 32)        896       \n",
      "_________________________________________________________________\n",
      "max_pooling2d_16 (MaxPooling (None, 24, 24, 32)        0         \n",
      "_________________________________________________________________\n",
      "conv2d_17 (Conv2D)           (None, 22, 22, 64)        18496     \n",
      "_________________________________________________________________\n",
      "max_pooling2d_17 (MaxPooling (None, 11, 11, 64)        0         \n",
      "_________________________________________________________________\n",
      "flatten_7 (Flatten)          (None, 7744)              0         \n",
      "_________________________________________________________________\n",
      "dense_11 (Dense)             (None, 256)               1982720   \n",
      "_________________________________________________________________\n",
      "dense_12 (Dense)             (None, 1)                 257       \n",
      "=================================================================\n",
      "Total params: 2,002,369\n",
      "Trainable params: 2,002,369\n",
      "Non-trainable params: 0\n",
      "_________________________________________________________________\n"
     ]
    }
   ],
   "source": [
    "classifier.summary()"
   ]
  },
  {
   "cell_type": "code",
   "execution_count": 27,
   "metadata": {},
   "outputs": [],
   "source": [
    "train_datagen = ImageDataGenerator(rescale = 1./255,\n",
    "                                  shear_range = 0.2,\n",
    "                                  zoom_range = 0.2,\n",
    "                                  horizontal_flip = True)\n"
   ]
  },
  {
   "cell_type": "code",
   "execution_count": 28,
   "metadata": {},
   "outputs": [],
   "source": [
    "test_datagen = ImageDataGenerator(rescale = 1./255)"
   ]
  },
  {
   "cell_type": "code",
   "execution_count": 38,
   "metadata": {},
   "outputs": [
    {
     "name": "stdout",
     "output_type": "stream",
     "text": [
      "Found 8005 images belonging to 2 classes.\n"
     ]
    }
   ],
   "source": [
    "training_set = train_datagen.flow_from_directory(\"C:\\\\Users\\\\marcelo\\\\Desktop\\\\dataset\\\\training_set\",\n",
    "                                                target_size = (50,50),\n",
    "                                                batch_size = 32,\n",
    "                                                class_mode = \"binary\")"
   ]
  },
  {
   "cell_type": "code",
   "execution_count": 39,
   "metadata": {},
   "outputs": [
    {
     "name": "stdout",
     "output_type": "stream",
     "text": [
      "Found 2023 images belonging to 2 classes.\n"
     ]
    }
   ],
   "source": [
    "test_set = test_datagen.flow_from_directory(\"C:\\\\Users\\\\marcelo\\\\Desktop\\\\dataset\\\\test_set\",\n",
    "                                           target_size = (50, 50),\n",
    "                                           batch_size = 32,\n",
    "                                           class_mode = \"binary\")"
   ]
  },
  {
   "cell_type": "code",
   "execution_count": 40,
   "metadata": {},
   "outputs": [
    {
     "data": {
      "image/png": "[encoded data removed]",
      "text/plain": [
       "<Figure size 432x288 with 1 Axes>"
      ]
     },
     "metadata": {
      "needs_background": "light"
     },
     "output_type": "display_data"
    }
   ],
   "source": [
    "x,y = training_set.next()\n",
    "for i in range(0,1):\n",
    "    random_image = x[i]\n",
    "    plt.imshow(random_image)\n",
    "    plt.show()"
   ]
  },
  {
   "cell_type": "code",
   "execution_count": 42,
   "metadata": {},
   "outputs": [
    {
     "name": "stdout",
     "output_type": "stream",
     "text": [
      "Epoch 1/25\n",
      "8000/8000 [==============================] - 2290s 286ms/step - loss: 0.3511 - accuracy: 0.8368 - val_loss: 0.6181 - val_accuracy: 0.8087\n",
      "Epoch 2/25\n",
      "8000/8000 [==============================] - 2062s 258ms/step - loss: 0.0871 - accuracy: 0.9677 - val_loss: 0.6063 - val_accuracy: 0.7935\n",
      "Epoch 3/25\n",
      "8000/8000 [==============================] - 2005s 251ms/step - loss: 0.0437 - accuracy: 0.9847 - val_loss: 0.9346 - val_accuracy: 0.7893\n",
      "Epoch 4/25\n",
      "8000/8000 [==============================] - 2013s 252ms/step - loss: 0.0323 - accuracy: 0.9891 - val_loss: 1.3422 - val_accuracy: 0.8003\n",
      "Epoch 5/25\n",
      "8000/8000 [==============================] - 2020s 253ms/step - loss: 0.0251 - accuracy: 0.9916 - val_loss: 1.5726 - val_accuracy: 0.7849\n",
      "Epoch 6/25\n",
      "8000/8000 [==============================] - 2037s 255ms/step - loss: 0.0206 - accuracy: 0.9935 - val_loss: 0.1046 - val_accuracy: 0.7946\n",
      "Epoch 7/25\n",
      "8000/8000 [==============================] - 2037s 255ms/step - loss: 0.0190 - accuracy: 0.9941 - val_loss: 1.8059 - val_accuracy: 0.7950\n",
      "Epoch 8/25\n",
      "8000/8000 [==============================] - 2061s 258ms/step - loss: 0.0169 - accuracy: 0.9947 - val_loss: 0.4180 - val_accuracy: 0.7921\n",
      "Epoch 9/25\n",
      "8000/8000 [==============================] - 2016s 252ms/step - loss: 0.0151 - accuracy: 0.9953 - val_loss: 2.5172 - val_accuracy: 0.7992\n",
      "Epoch 10/25\n",
      "8000/8000 [==============================] - 2031s 254ms/step - loss: 0.0140 - accuracy: 0.9956 - val_loss: 2.5696 - val_accuracy: 0.7841\n",
      "Epoch 11/25\n",
      "8000/8000 [==============================] - 2036s 255ms/step - loss: 0.0120 - accuracy: 0.9963 - val_loss: 1.8503 - val_accuracy: 0.7958\n",
      "Epoch 12/25\n",
      "8000/8000 [==============================] - 2039s 255ms/step - loss: 0.0113 - accuracy: 0.9967 - val_loss: 1.2064 - val_accuracy: 0.7926\n",
      "Epoch 13/25\n",
      "8000/8000 [==============================] - 2039s 255ms/step - loss: 0.0106 - accuracy: 0.9969 - val_loss: 0.9643 - val_accuracy: 0.7879\n",
      "Epoch 14/25\n",
      "8000/8000 [==============================] - 2040s 255ms/step - loss: 0.0108 - accuracy: 0.9968 - val_loss: 2.6475 - val_accuracy: 0.7936\n",
      "Epoch 15/25\n",
      "8000/8000 [==============================] - 2069s 259ms/step - loss: 0.0093 - accuracy: 0.9972 - val_loss: 3.2487 - val_accuracy: 0.7956\n",
      "Epoch 16/25\n",
      "8000/8000 [==============================] - 2066s 258ms/step - loss: 0.0103 - accuracy: 0.9971 - val_loss: 1.1587 - val_accuracy: 0.7983\n",
      "Epoch 17/25\n",
      "8000/8000 [==============================] - 2081s 260ms/step - loss: 0.0090 - accuracy: 0.9974 - val_loss: 0.9385 - val_accuracy: 0.7862\n",
      "Epoch 18/25\n",
      "8000/8000 [==============================] - 2105s 263ms/step - loss: 0.0095 - accuracy: 0.9974 - val_loss: 0.9345 - val_accuracy: 0.7936\n",
      "Epoch 19/25\n",
      "8000/8000 [==============================] - 2137s 267ms/step - loss: 0.0083 - accuracy: 0.9977 - val_loss: 3.3797 - val_accuracy: 0.7956\n",
      "Epoch 20/25\n",
      "8000/8000 [==============================] - 2126s 266ms/step - loss: 0.0083 - accuracy: 0.9978 - val_loss: 2.0488 - val_accuracy: 0.7934\n",
      "Epoch 21/25\n",
      "8000/8000 [==============================] - 2098s 262ms/step - loss: 0.0084 - accuracy: 0.9977 - val_loss: 1.7919 - val_accuracy: 0.8067\n",
      "Epoch 22/25\n",
      "8000/8000 [==============================] - 2073s 259ms/step - loss: 0.0077 - accuracy: 0.9979 - val_loss: 2.5656 - val_accuracy: 0.7985\n",
      "Epoch 23/25\n",
      "8000/8000 [==============================] - 2066s 258ms/step - loss: 0.0076 - accuracy: 0.9979 - val_loss: 1.6949 - val_accuracy: 0.7840\n",
      "Epoch 24/25\n",
      "8000/8000 [==============================] - 2062s 258ms/step - loss: 0.0078 - accuracy: 0.9980 - val_loss: 0.0083 - val_accuracy: 0.8060\n",
      "Epoch 25/25\n",
      "8000/8000 [==============================] - 2077s 260ms/step - loss: 0.0065 - accuracy: 0.9982 - val_loss: 2.4031 - val_accuracy: 0.7919\n"
     ]
    },
    {
     "data": {
      "text/plain": [
       "<keras.callbacks.callbacks.History at 0x1fd74578048>"
      ]
     },
     "execution_count": 42,
     "metadata": {},
     "output_type": "execute_result"
    }
   ],
   "source": [
    "classifier.fit_generator(training_set,\n",
    "                        steps_per_epoch = 8000,\n",
    "                        epochs = 25,\n",
    "                        validation_data = test_set,\n",
    "                        validation_steps = 2000)"
   ]
  },
  {
   "cell_type": "code",
   "execution_count": 102,
   "metadata": {},
   "outputs": [],
   "source": [
    "test_image = image.load_img(\"C:\\\\Users\\\\marcelo\\\\Desktop\\\\dataset\\\\single_prediction\\\\cat_or_dog_1.jpg\", target_size = (50, 50))"
   ]
  },
  {
   "cell_type": "code",
   "execution_count": 103,
   "metadata": {},
   "outputs": [
    {
     "data": {
      "image/png": "[encoded data removed]",
      "text/plain": [
       "<Figure size 432x288 with 1 Axes>"
      ]
     },
     "metadata": {
      "needs_background": "light"
     },
     "output_type": "display_data"
    }
   ],
   "source": [
    "plt.imshow(test_image)\n",
    "plt.show()"
   ]
  },
  {
   "cell_type": "code",
   "execution_count": 104,
   "metadata": {},
   "outputs": [],
   "source": [
    "test_image = image.img_to_array(test_image)"
   ]
  },
  {
   "cell_type": "code",
   "execution_count": 105,
   "metadata": {},
   "outputs": [],
   "source": [
    "test_image = np.expand_dims(test_image, axis = 0)"
   ]
  },
  {
   "cell_type": "code",
   "execution_count": 106,
   "metadata": {},
   "outputs": [],
   "source": [
    "result = classifier.predict(test_image)"
   ]
  },
  {
   "cell_type": "code",
   "execution_count": 107,
   "metadata": {},
   "outputs": [],
   "source": [
    "if result[0][0] == 1:\n",
    "    prediction = 'This is a dog'\n",
    "else:\n",
    "    prediction = 'This is a cat'"
   ]
  },
  {
   "cell_type": "code",
   "execution_count": 108,
   "metadata": {},
   "outputs": [
    {
     "name": "stdout",
     "output_type": "stream",
     "text": [
      "This is a dog\n"
     ]
    }
   ],
   "source": [
    "print(prediction)"
   ]
  },
  {
   "cell_type": "code",
   "execution_count": null,
   "metadata": {},
   "outputs": [],
   "source": [
    "model_json = classifier.to_json()"
   ]
  },
  {
   "cell_type": "code",
   "execution_count": null,
   "metadata": {},
   "outputs": [],
   "source": [
    "with open('cat&dog_model.json', 'w') as json_file:\n",
    "    json_file.write(model_json)"
   ]
  },
  {
   "cell_type": "code",
   "execution_count": 110,
   "metadata": {},
   "outputs": [],
   "source": [
    "loss, accuracy = classifier.evaluate_generator(test_set)"
   ]
  },
  {
   "cell_type": "code",
   "execution_count": 112,
   "metadata": {},
   "outputs": [
    {
     "name": "stdout",
     "output_type": "stream",
     "text": [
      "0.7918932437896729\n"
     ]
    }
   ],
   "source": [
    "print(accuracy)"
   ]
  },
  {
   "cell_type": "code",
   "execution_count": 6,
   "metadata": {},
   "outputs": [],
   "source": [
    "from quiver_engine import server"
   ]
  },
  {
   "cell_type": "code",
   "execution_count": 4,
   "metadata": {},
   "outputs": [],
   "source": [
    "json_file = open('cat&dog_model.json', 'r')"
   ]
  },
  {
   "cell_type": "code",
   "execution_count": 5,
   "metadata": {},
   "outputs": [],
   "source": [
    "loaded_classifier_json = json_file.read()"
   ]
  },
  {
   "cell_type": "code",
   "execution_count": 6,
   "metadata": {},
   "outputs": [],
   "source": [
    "json_file.close()"
   ]
  },
  {
   "cell_type": "code",
   "execution_count": null,
   "metadata": {},
   "outputs": [],
   "source": [
    "loaded_classifier = model_from_json(loaded_classifier_json)"
   ]
  },
  {
   "cell_type": "code",
   "execution_count": null,
   "metadata": {},
   "outputs": [],
   "source": [
    "loaded_classifier.compile(optimizer = 'adam', loss = 'binary_crossentropy', metrics = ['accuracy'])"
   ]
  },
  {
   "cell_type": "code",
   "execution_count": null,
   "metadata": {},
   "outputs": [],
   "source": [
    "server.launch(loaded_classifier)"
   ]
  },
  {
   "cell_type": "code",
   "execution_count": null,
   "metadata": {},
   "outputs": [],
   "source": []
  }
 ],
 "metadata": {
  "kernelspec": {
   "display_name": "Python 3",
   "language": "python",
   "name": "python3"
  },
  "language_info": {
   "codemirror_mode": {
    "name": "ipython",
    "version": 3
   },
   "file_extension": ".py",
   "mimetype": "text/x-python",
   "name": "python",
   "nbconvert_exporter": "python",
   "pygments_lexer": "ipython3",
   "version": "3.7.4"
  }
 },
 "nbformat": 4,
 "nbformat_minor": 2
}
